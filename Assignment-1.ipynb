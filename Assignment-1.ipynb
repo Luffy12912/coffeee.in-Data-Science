{
 "cells": [
  {
   "cell_type": "code",
   "execution_count": 2,
   "id": "7b822494",
   "metadata": {},
   "outputs": [
    {
     "name": "stdout",
     "output_type": "stream",
     "text": [
      "Enter Your First name: sumit\n",
      "Enter Your Last Name: roy\n",
      "roy sumit\n"
     ]
    }
   ],
   "source": [
    "#1. Write a Python program which accepts the user's first and last name and prints them in reverse order with a space between them.\n",
    "fname = input(\"Enter Your First name: \")\n",
    "lname = input(\"Enter Your Last Name: \")\n",
    "print (lname +\" \"+ fname)"
   ]
  },
  {
   "cell_type": "code",
   "execution_count": 3,
   "id": "77a374fe",
   "metadata": {},
   "outputs": [
    {
     "name": "stdout",
     "output_type": "stream",
     "text": [
      "Input some comma seprated numbers: 3,5,7,23\n",
      "List:  ['3', '5', '7', '23']\n",
      "Tuple:  ('3', '5', '7', '23')\n"
     ]
    }
   ],
   "source": [
    "#2. Write a Python program which accepts a sequence of comma-separated numbers from the\n",
    "#user and generates a list and a tuple with those numbers.\n",
    "\n",
    "values = input(\"Input some comma seprated numbers: \")\n",
    "list = values.split(\",\")\n",
    "tuple = tuple(list)\n",
    "print('List: ',list)\n",
    "print('Tuple: ',tuple)"
   ]
  },
  {
   "cell_type": "code",
   "execution_count": 4,
   "id": "2de6c839",
   "metadata": {},
   "outputs": [
    {
     "name": "stdout",
     "output_type": "stream",
     "text": [
      "Red Black\n"
     ]
    }
   ],
   "source": [
    "#3. Write a Python program to display the first and last colours from the following list.\n",
    "\n",
    "list = [\"Red\",\"Green\",\"White\",\"Black\"]\n",
    "print(list[0],list[-1])"
   ]
  },
  {
   "cell_type": "code",
   "execution_count": 6,
   "id": "c6e81a61",
   "metadata": {},
   "outputs": [
    {
     "name": "stdout",
     "output_type": "stream",
     "text": [
      "Return the absolute value of the argument.\n"
     ]
    }
   ],
   "source": [
    "#4.Write a Python program to print the documents (syntax, description etc.) of Python built-in\n",
    "#function(s).\n",
    "\n",
    "print(abs.__doc__)"
   ]
  },
  {
   "cell_type": "code",
   "execution_count": 9,
   "id": "475ef62e",
   "metadata": {},
   "outputs": [
    {
     "name": "stdout",
     "output_type": "stream",
     "text": [
      "Enter the Year: 2022\n",
      "Enter the Month 08\n",
      "    August 2022\n",
      "Mo Tu We Th Fr Sa Su\n",
      " 1  2  3  4  5  6  7\n",
      " 8  9 10 11 12 13 14\n",
      "15 16 17 18 19 20 21\n",
      "22 23 24 25 26 27 28\n",
      "29 30 31\n",
      "\n"
     ]
    }
   ],
   "source": [
    "#5. Write a Python program to print the calendar of a given month and year\n",
    "\n",
    "import calendar\n",
    "y = int(input(\"Enter the Year: \"))\n",
    "m = int(input(\"Enter the Month \"))\n",
    "print(calendar.month(y,m))"
   ]
  },
  {
   "cell_type": "code",
   "execution_count": 10,
   "id": "c49fe162",
   "metadata": {},
   "outputs": [
    {
     "name": "stdout",
     "output_type": "stream",
     "text": [
      "9\n"
     ]
    }
   ],
   "source": [
    "#6. Write a Python program to calculate number of days between two dates.\n",
    "\n",
    "from datetime import date\n",
    "f_date = date(2014, 7, 2)\n",
    "l_date = date(2014, 7, 11)\n",
    "delta = l_date - f_date\n",
    "print(delta.days)"
   ]
  },
  {
   "cell_type": "code",
   "execution_count": 16,
   "id": "bf054c37",
   "metadata": {},
   "outputs": [],
   "source": [
    "#8. Write a Python program to create a histogram from a given list of integers.\n",
    "\n",
    "def histogram(items):\n",
    "    for n in items:\n",
    "        output = ''\n",
    "        times = n\n",
    "        while(times > 0):\n",
    "            output += '*'\n",
    "            times = times -1\n",
    "            print(output)"
   ]
  },
  {
   "cell_type": "code",
   "execution_count": 18,
   "id": "6e1a0ee4",
   "metadata": {},
   "outputs": [
    {
     "name": "stdout",
     "output_type": "stream",
     "text": [
      "*\n",
      "**\n",
      "***\n",
      "*\n",
      "**\n",
      "***\n",
      "****\n"
     ]
    }
   ],
   "source": [
    "histogram([3,4])"
   ]
  },
  {
   "cell_type": "code",
   "execution_count": 19,
   "id": "935e2927",
   "metadata": {},
   "outputs": [
    {
     "name": "stdout",
     "output_type": "stream",
     "text": [
      "8\n"
     ]
    }
   ],
   "source": [
    "#13. Write a Python program to find out the number of CPUs using.\n",
    "\n",
    "import multiprocessing\n",
    "print(multiprocessing.cpu_count())"
   ]
  },
  {
   "cell_type": "code",
   "execution_count": 21,
   "id": "e57ba08c",
   "metadata": {},
   "outputs": [
    {
     "name": "stdout",
     "output_type": "stream",
     "text": [
      "1\n",
      "3\n",
      "5\n",
      "7\n",
      "9\n",
      "Accessing through Index values\n",
      "1\n",
      "5\n"
     ]
    }
   ],
   "source": [
    "#1. Write a Python program to create an array of 5 integers and display the array items.\n",
    "#Access individual element through indexes.\n",
    "\n",
    "from array import *\n",
    "array_num = array('i', [1,3,5,7,9])\n",
    "for i in array_num:\n",
    "    print(i)\n",
    "print(\"Accessing through Index values\")\n",
    "print(array_num[0])\n",
    "print(array_num[2])"
   ]
  },
  {
   "cell_type": "code",
   "execution_count": 25,
   "id": "4f18c516",
   "metadata": {},
   "outputs": [
    {
     "name": "stdout",
     "output_type": "stream",
     "text": [
      "Original Array: array('i', [1, 3, 5, 7, 9])\n",
      "Reverse Array: array('i', [9, 7, 5, 3, 1])\n"
     ]
    }
   ],
   "source": [
    "#2. Write a Python program to reverse the order of the items in the array.\n",
    "\n",
    "from array import *\n",
    "array_num = array('i',[1,3,5,7,9])\n",
    "print(\"Original Array: \" +str(array_num))\n",
    "array_num.reverse()\n",
    "print(\"Reverse Array: \" +str(array_num))"
   ]
  },
  {
   "cell_type": "code",
   "execution_count": 26,
   "id": "482dd3f5",
   "metadata": {},
   "outputs": [
    {
     "name": "stdout",
     "output_type": "stream",
     "text": [
      "Original dictionary :  {1: 2, 3: 4, 4: 3, 2: 1, 0: 0}\n",
      "Dictionary in ascending order by value :  [(0, 0), (2, 1), (1, 2), (4, 3), (3, 4)]\n",
      "Dictionary in descending order by value :  {3: 4, 4: 3, 1: 2, 2: 1, 0: 0}\n"
     ]
    }
   ],
   "source": [
    "#1.Write a Python script to sort (ascending and descending) a dictionary by value.\n",
    "\n",
    "import operator\n",
    "d = {1: 2, 3: 4, 4: 3, 2: 1, 0: 0}\n",
    "print('Original dictionary : ',d)\n",
    "sorted_d = sorted(d.items(), key=operator.itemgetter(1))\n",
    "print('Dictionary in ascending order by value : ',sorted_d)\n",
    "sorted_d = dict( sorted(d.items(), key=operator.itemgetter(1),reverse=True))\n",
    "print('Dictionary in descending order by value : ',sorted_d)"
   ]
  },
  {
   "cell_type": "code",
   "execution_count": 27,
   "id": "dd36387c",
   "metadata": {},
   "outputs": [
    {
     "name": "stdout",
     "output_type": "stream",
     "text": [
      "{0: 10, 1: 20}\n",
      "{0: 10, 1: 20, 2: 30}\n"
     ]
    }
   ],
   "source": [
    "#2. Write a Python script to add a key to a dictionary.\n",
    "\n",
    "d = {0:10, 1:20}\n",
    "print(d)\n",
    "d.update({2:30})\n",
    "print(d)"
   ]
  },
  {
   "cell_type": "code",
   "execution_count": 28,
   "id": "eafbc206",
   "metadata": {},
   "outputs": [
    {
     "name": "stdout",
     "output_type": "stream",
     "text": [
      "-5\n"
     ]
    }
   ],
   "source": [
    "#1. Write a Python program to sum all the items in a list\n",
    "\n",
    "def sum_list(items):\n",
    "    sum_numbers = 0\n",
    "    for x in items:\n",
    "        sum_numbers += x\n",
    "    return sum_numbers\n",
    "print(sum_list([1,2,-8]))"
   ]
  },
  {
   "cell_type": "code",
   "execution_count": 29,
   "id": "00ba5350",
   "metadata": {},
   "outputs": [
    {
     "name": "stdout",
     "output_type": "stream",
     "text": [
      "-8\n"
     ]
    }
   ],
   "source": [
    "#3. Write a Python program to get the smallest number from a list\n",
    "\n",
    "def smallest_num_in_list( list ):\n",
    "    min = list[ 0 ]\n",
    "    for a in list:\n",
    "        if a < min:\n",
    "            min = a\n",
    "    return min\n",
    "print(smallest_num_in_list([1, 2, -8, 0]))"
   ]
  },
  {
   "cell_type": "code",
   "execution_count": 30,
   "id": "02f38f4d",
   "metadata": {},
   "outputs": [
    {
     "name": "stdout",
     "output_type": "stream",
     "text": [
      "('tuple', False, 3.2, 1)\n"
     ]
    }
   ],
   "source": [
    "#2. Write a Python program to create a tuple with different data types.\n",
    "\n",
    "tuplex = (\"tuple\", False, 3.2, 1)\n",
    "print(tuplex)"
   ]
  },
  {
   "cell_type": "code",
   "execution_count": 33,
   "id": "4728ec32",
   "metadata": {},
   "outputs": [
    {
     "name": "stdout",
     "output_type": "stream",
     "text": [
      "19\n"
     ]
    }
   ],
   "source": [
    "#1. Write a Python program to calculate the length of a string.\n",
    "\n",
    "def string_length(str1):\n",
    "    count = 0\n",
    "    for char in str1:\n",
    "        count += 1\n",
    "    return count\n",
    "print(string_length('sumit roy from VSIT'))\n"
   ]
  },
  {
   "cell_type": "code",
   "execution_count": null,
   "id": "83e9e8a8",
   "metadata": {},
   "outputs": [],
   "source": []
  }
 ],
 "metadata": {
  "kernelspec": {
   "display_name": "Python 3 (ipykernel)",
   "language": "python",
   "name": "python3"
  },
  "language_info": {
   "codemirror_mode": {
    "name": "ipython",
    "version": 3
   },
   "file_extension": ".py",
   "mimetype": "text/x-python",
   "name": "python",
   "nbconvert_exporter": "python",
   "pygments_lexer": "ipython3",
   "version": "3.9.7"
  }
 },
 "nbformat": 4,
 "nbformat_minor": 5
}
